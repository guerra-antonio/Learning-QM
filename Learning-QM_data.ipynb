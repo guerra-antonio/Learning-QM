{
 "cells": [
  {
   "cell_type": "code",
   "execution_count": 1,
   "metadata": {},
   "outputs": [],
   "source": [
    "import random\n",
    "import itertools\n",
    "\n",
    "import numpy as np\n",
    "import qiskit.quantum_info as qi\n",
    "\n",
    "from tqdm import tqdm\n",
    "from codes import swapper, get_marginals, physical_imposition_operator, get_state_of_rank"
   ]
  },
  {
   "cell_type": "code",
   "execution_count": 2,
   "metadata": {},
   "outputs": [],
   "source": [
    "# Define the parameters of the data that's going to be generated for training stage\n",
    "\n",
    "dimension   = 2     # Dimension of each qudits, for qubits is 2.\n",
    "n_qubits    = 4     # Number of qubits of the global state\n",
    "n_marginal  = 3     # Number of marginal that we know\n",
    "n_matrices  = 5000  # Number of matrices to be generated per rank"
   ]
  },
  {
   "cell_type": "code",
   "execution_count": 3,
   "metadata": {},
   "outputs": [],
   "source": [
    "# To define the data is necessary to define a swapper matrix and label the differents marginal\n",
    "\n",
    "matrix_size = dimension ** n_qubits\n",
    "subs_dims   = [dimension for _ in range(n_qubits)]\n",
    "swapper_d   = swapper(dimension)\n",
    "labels_mg   = list(itertools.combinations(range(n_qubits), r = n_marginal))"
   ]
  },
  {
   "cell_type": "code",
   "execution_count": 4,
   "metadata": {},
   "outputs": [
    {
     "name": "stderr",
     "output_type": "stream",
     "text": [
      "Generating matrices of rank 7: 100%|██████████| 5000/5000 [00:06<00:00, 818.18it/s]\n",
      "Generating matrices of rank 8: 100%|██████████| 5000/5000 [00:05<00:00, 857.57it/s]\n",
      "Generating matrices of rank 9: 100%|██████████| 5000/5000 [00:05<00:00, 855.38it/s]\n",
      "Generating matrices of rank 10: 100%|██████████| 5000/5000 [00:06<00:00, 824.56it/s]\n",
      "Generating matrices of rank 11: 100%|██████████| 5000/5000 [00:06<00:00, 802.94it/s]\n",
      "Generating matrices of rank 12: 100%|██████████| 5000/5000 [00:06<00:00, 794.62it/s]\n",
      "Generating matrices of rank 13: 100%|██████████| 5000/5000 [00:06<00:00, 788.32it/s]\n",
      "Generating matrices of rank 14: 100%|██████████| 5000/5000 [00:06<00:00, 790.85it/s]\n",
      "Generating matrices of rank 15: 100%|██████████| 5000/5000 [00:06<00:00, 794.44it/s]\n",
      "Generating matrices of rank 16: 100%|██████████| 5000/5000 [00:06<00:00, 788.03it/s]\n"
     ]
    },
    {
     "name": "stdout",
     "output_type": "stream",
     "text": [
      "Saving data ...\n",
      "Data saved. Process finished!\n"
     ]
    }
   ],
   "source": [
    "# We generates the data to be used in training stage\n",
    "\n",
    "data = []\n",
    "\n",
    "for rank in range(7,matrix_size + 1):\n",
    "     for iter in tqdm(range(n_matrices), desc = \"Generating matrices of rank \"+str(rank)):\n",
    "          # We generates a mixed state and, then, get the marginals related with the labels_mg subsystems\n",
    "          rho_noiseless = get_state_of_rank(random.randint(rank, matrix_size), dimension, n_qubits)\n",
    "          marginals_in  = get_marginals(rho_noiseless, dimension, n_qubits, labels_mg)\n",
    "          \n",
    "          # We impose marginals in a random initial state. The output, named 'rho_noisy', isn't necessarily positive semidefinite\n",
    "          rho_noisy = physical_imposition_operator(\n",
    "               dimension, \n",
    "               n_qubits, \n",
    "               qi.random_density_matrix(dims=subs_dims).data, \n",
    "               marginals_in,\n",
    "               swapper_d\n",
    "          )\n",
    "\n",
    "          data.append([np.stack((rho_noisy.real.astype(np.float32), rho_noisy.imag.astype(np.float32))),\n",
    "                    np.stack((rho_noiseless.real.astype(np.float32), rho_noiseless.imag.astype(np.float32)))])\n",
    "\n",
    "print(\"Saving data ...\")\n",
    "np.savez_compressed(f\"data/data_{n_qubits}body_{n_marginal}parts_d{dimension}\", data)\n",
    "print(\"Data saved. Process finished!\")"
   ]
  }
 ],
 "metadata": {
  "kernelspec": {
   "display_name": "base",
   "language": "python",
   "name": "python3"
  },
  "language_info": {
   "codemirror_mode": {
    "name": "ipython",
    "version": 3
   },
   "file_extension": ".py",
   "mimetype": "text/x-python",
   "name": "python",
   "nbconvert_exporter": "python",
   "pygments_lexer": "ipython3",
   "version": "3.9.19"
  }
 },
 "nbformat": 4,
 "nbformat_minor": 2
}
