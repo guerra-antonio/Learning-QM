{
 "cells": [
  {
   "cell_type": "code",
   "execution_count": null,
   "metadata": {},
   "outputs": [],
   "source": [
    "import torch\n",
    "import itertools\n",
    "\n",
    "import numpy as np\n",
    "import qiskit.quantum_info as qi\n",
    "\n",
    "from torch import nn\n",
    "from codes import swapper, physical_imposition_operator, get_marginals, get_state_of_rank"
   ]
  },
  {
   "attachments": {},
   "cell_type": "markdown",
   "metadata": {},
   "source": [
    "### Chose the case\n",
    "\n",
    "Available cases:\n",
    "1. N3k2\n",
    "2. N4k3\n",
    "3. N5k3\n",
    "4. N6k4\n",
    "\n",
    "with `N` the number of qubits of the global state and `k` the number of qubits in the reduced system"
   ]
  },
  {
   "cell_type": "code",
   "execution_count": null,
   "metadata": {},
   "outputs": [],
   "source": [
    "d = 2\n",
    "num_of_qubits = 6\n",
    "num_of_qubits_in_marginals = 4\n",
    "\n",
    "checkpoint_path = f\"./checkpoints/cpN{num_of_qubits}k{num_of_qubits_in_marginals}\"\n",
    "\n",
    "if num_of_qubits == 4 or num_of_qubits == 6:\n",
    "    SCALE = 4\n",
    "else:\n",
    "    SCALE = 2"
   ]
  },
  {
   "attachments": {},
   "cell_type": "markdown",
   "metadata": {},
   "source": [
    "### Load de model from checkpoint"
   ]
  },
  {
   "cell_type": "code",
   "execution_count": null,
   "metadata": {},
   "outputs": [],
   "source": [
    "class ConvDenoiser(nn.Module):\n",
    "\n",
    "    def __init__(self):\n",
    "        super(ConvDenoiser, self).__init__()\n",
    "\n",
    "        self.encoder = nn.Sequential(\n",
    "                nn.Conv2d(2,SCALE*60,3,padding=1),\n",
    "                nn.Tanh(),\n",
    "                nn.MaxPool2d(2,2),\n",
    "\n",
    "                nn.Conv2d(SCALE*60,SCALE*120,3,padding=1),\n",
    "                nn.Tanh(),\n",
    "                nn.MaxPool2d(2,2),\n",
    "\n",
    "                nn.Conv2d(SCALE*120,SCALE*60,3,padding=1),\n",
    "                nn.Tanh(),\n",
    "                nn.MaxPool2d(2,2)\n",
    "            )\n",
    "\n",
    "        self.decoder = nn.Sequential(\n",
    "                nn.ConvTranspose2d(SCALE*60,SCALE*60,3,padding=1,stride=2),\n",
    "                nn.Tanh(),\n",
    "\n",
    "                nn.ConvTranspose2d(SCALE*60,SCALE*120,5,padding=1,stride=2),\n",
    "                nn.Tanh(),\n",
    "\n",
    "                nn.ConvTranspose2d(SCALE*120,SCALE*60,6,stride=2),\n",
    "                nn.Tanh(),\n",
    "                nn.Conv2d(SCALE*60,2,3)\n",
    "            )\n",
    "\n",
    "    def forward(self,x):\n",
    "        encoded = self.encoder(x)\n",
    "        output = self.decoder(encoded)\n",
    "\n",
    "        return output\n",
    "    \n",
    "model = ConvDenoiser()\n",
    "model_params = torch.load(checkpoint_path, map_location=torch.device('cpu'),weights_only=True)\n",
    "model.load_state_dict(model_params['model_state_dict'])\n",
    "model.eval()"
   ]
  },
  {
   "attachments": {},
   "cell_type": "markdown",
   "metadata": {},
   "source": [
    "### Impose marginals in a random density matrix"
   ]
  },
  {
   "cell_type": "code",
   "execution_count": null,
   "metadata": {},
   "outputs": [],
   "source": [
    "# To define the data is necessary to define a swapper matrix and label the differents marginal\n",
    "dn = d**num_of_qubits\n",
    "swapper_d = swapper(d)\n",
    "\n",
    "rank = dn\n",
    "rho_noisless = get_state_of_rank( rank, d, num_of_qubits)\n",
    "\n",
    "\n",
    "# \"k\" is an integer such that  1 <= k <= num_of_qubits_in_marginals\n",
    "k = num_of_qubits_in_marginals \n",
    "labels_marginals = list(itertools.combinations( range( num_of_qubits) , r = k))  \n",
    "target_marginals = get_marginals( rho_noisless, d, num_of_qubits, labels_marginals )\n",
    "\n",
    "initial_seed = qi.random_density_matrix(dn).data\n",
    "            \n",
    "rho_noisy = physical_imposition_operator(d,num_of_qubits,\n",
    "            initial_seed ,\n",
    "            target_marginals,\n",
    "            swapper_d\n",
    "            )\n",
    "\n",
    "print(f\"Eigenvals of the noisy matrix =  \\n\\n   {np.linalg.eigvalsh(rho_noisy)}\")\n",
    "print(40*\"---\")"
   ]
  },
  {
   "attachments": {},
   "cell_type": "markdown",
   "metadata": {},
   "source": [
    "### Use the model to get a quantum state "
   ]
  },
  {
   "cell_type": "code",
   "execution_count": null,
   "metadata": {},
   "outputs": [],
   "source": [
    "# Prepare the initial seed to implemente the physical imposition operator and, with that, get a matrix that contains the Quantum Marginals\n",
    "\n",
    "tensor_rho_noisy = torch.Tensor( np.stack((rho_noisy.real, rho_noisy.imag)) )\n",
    "output = model( tensor_rho_noisy )\n",
    "\n",
    "predicted_state = output[0] + 1j*output[1]\n",
    "predicted_state = (predicted_state + torch.conj(predicted_state.T))/2\n",
    "\n",
    "predicted_state_np = predicted_state.detach().numpy()\n",
    "predicted_state_np = predicted_state_np/np.trace(predicted_state_np)\n",
    "\n",
    "predicted_marginals = get_marginals(predicted_state_np, d, num_of_qubits, labels_marginals)\n",
    "\n",
    "print(f\"\\nEigenvals renormalized predicted state =  \\n   {np.linalg.eigvalsh(predicted_state_np)}\")"
   ]
  },
  {
   "attachments": {},
   "cell_type": "markdown",
   "metadata": {},
   "source": [
    "### Compare the marginals from the predicted sate with the \"target_marginals\""
   ]
  },
  {
   "cell_type": "code",
   "execution_count": null,
   "metadata": {},
   "outputs": [],
   "source": [
    "predicted_marginals   = get_marginals(predicted_state_np, 2, num_of_qubits, labels_marginals)\n",
    "\n",
    "for label in target_marginals.keys():\n",
    "    print(qi.state_fidelity(target_marginals[label], predicted_marginals[label], validate=True))"
   ]
  }
 ],
 "metadata": {
  "kernelspec": {
   "display_name": "base",
   "language": "python",
   "name": "python3"
  },
  "language_info": {
   "codemirror_mode": {
    "name": "ipython",
    "version": 3
   },
   "file_extension": ".py",
   "mimetype": "text/x-python",
   "name": "python",
   "nbconvert_exporter": "python",
   "pygments_lexer": "ipython3",
   "version": "3.11.9"
  }
 },
 "nbformat": 4,
 "nbformat_minor": 2
}
